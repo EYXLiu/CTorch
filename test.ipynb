{
 "cells": [
  {
   "cell_type": "code",
   "execution_count": 3,
   "metadata": {},
   "outputs": [],
   "source": [
    "import torch\n",
    "import torch.nn as nn\n",
    "import torch.nn.functional as F"
   ]
  },
  {
   "cell_type": "code",
   "execution_count": 4,
   "metadata": {},
   "outputs": [
    {
     "data": {
      "text/plain": [
       "tensor([[3, 3],\n",
       "        [3, 3],\n",
       "        [3, 3]])"
      ]
     },
     "execution_count": 4,
     "metadata": {},
     "output_type": "execute_result"
    }
   ],
   "source": [
    "a = torch.tensor([[1, 1], [1, 1], [1, 1]])\n",
    "b = torch.tensor([[1, 1, 1], [1, 1, 1], [1, 1, 1]])\n",
    "b.matmul(a)"
   ]
  },
  {
   "cell_type": "code",
   "execution_count": 14,
   "metadata": {},
   "outputs": [
    {
     "data": {
      "text/plain": [
       "tensor([[3., 3., 3.],\n",
       "        [3., 3., 3.],\n",
       "        [3., 3., 3.]])"
      ]
     },
     "execution_count": 14,
     "metadata": {},
     "output_type": "execute_result"
    }
   ],
   "source": [
    "c = torch.ones(3, 3)\n",
    "c.matmul(c)"
   ]
  },
  {
   "cell_type": "code",
   "execution_count": 21,
   "metadata": {},
   "outputs": [
    {
     "name": "stdout",
     "output_type": "stream",
     "text": [
      "tensor([[[1, 1],\n",
      "         [1, 1],\n",
      "         [1, 1]],\n",
      "\n",
      "        [[1, 1],\n",
      "         [1, 1],\n",
      "         [1, 1]]])\n"
     ]
    }
   ],
   "source": [
    "d = torch.tensor([[[1, 1], [1, 1], [1, 1]], [[1, 1], [1, 1], [1, 1]]])\n",
    "e = torch.tensor([[1, 1, 1], [1, 1, 1]])\n",
    "d.matmul(e)\n",
    "print(d)"
   ]
  },
  {
   "cell_type": "code",
   "execution_count": 54,
   "metadata": {},
   "outputs": [
    {
     "data": {
      "text/plain": [
       "tensor([[20., 26., 32.],\n",
       "        [29., 38., 47.],\n",
       "        [38., 50., 62.]])"
      ]
     },
     "execution_count": 54,
     "metadata": {},
     "output_type": "execute_result"
    }
   ],
   "source": [
    "v = torch.tensor([[1, 2, 3], [2, 3, 4], [3, 4, 5]], dtype=torch.float32)\n",
    "c = torch.tensor([[2, 3, 4], [3, 4, 5], [4, 5, 6]], dtype=torch.float32)\n",
    "v.matmul(c)"
   ]
  },
  {
   "cell_type": "code",
   "execution_count": 67,
   "metadata": {},
   "outputs": [
    {
     "data": {
      "text/plain": [
       "tensor([[[ 2.2718, -1.0647,  0.6604],\n",
       "         [-1.8347,  0.5533,  3.1777],\n",
       "         [ 0.2492, -0.3308,  1.2846]],\n",
       "\n",
       "        [[ 6.0376, -2.9274,  0.2591],\n",
       "         [-1.1905,  0.4113,  2.3800],\n",
       "         [-0.0265,  0.2770,  0.0192]],\n",
       "\n",
       "        [[ 0.4414,  0.4093,  0.5089],\n",
       "         [-3.7540,  2.3588, -0.2770],\n",
       "         [ 4.4783, -1.7763,  3.7563]]])"
      ]
     },
     "execution_count": 67,
     "metadata": {},
     "output_type": "execute_result"
    }
   ],
   "source": [
    "t = torch.tensor([[[0.230685, 0.89133, 0.365109], [-2.48654, -0.866873, 0.890341], [-0.854835, 0.125772, 0.342647]], [[1.28995, 2.57582, 0.328219], [-1.72174, -0.627516, 0.737613], [0.282489, -0.18954, 0.202373]], [[0.541478, -0.274135, 0.673161], [-0.131711, -1.95011, 0.151625], [-0.472415, 1.30916, 1.8935]]])\n",
    "v = torch.tensor([[[0.443215, 0.189262, -0.832299], [1.98107, -1.22573, 0.319197], [1.10598, -0.0434281, 1.55543]]])\n",
    "t.matmul(v)"
   ]
  },
  {
   "cell_type": "code",
   "execution_count": null,
   "metadata": {},
   "outputs": [],
   "source": []
  },
  {
   "cell_type": "code",
   "execution_count": 114,
   "metadata": {},
   "outputs": [
    {
     "name": "stdout",
     "output_type": "stream",
     "text": [
      "tensor([0.2307, 0.8913, 0.3651])\n",
      "tensor([0.2451, 0.4745, 0.2804])\n"
     ]
    }
   ],
   "source": [
    "t = torch.Tensor([0.230685, 0.89133, 0.365109])\n",
    "v = t.softmax(0)\n",
    "print(t)\n",
    "print(v)"
   ]
  },
  {
   "cell_type": "code",
   "execution_count": 86,
   "metadata": {},
   "outputs": [
    {
     "data": {
      "text/plain": [
       "torch.Size([0])"
      ]
     },
     "execution_count": 86,
     "metadata": {},
     "output_type": "execute_result"
    }
   ],
   "source": [
    "t = torch.Tensor([])\n",
    "t.size()"
   ]
  },
  {
   "cell_type": "code",
   "execution_count": null,
   "metadata": {},
   "outputs": [],
   "source": []
  }
 ],
 "metadata": {
  "kernelspec": {
   "display_name": ".venv",
   "language": "python",
   "name": "python3"
  },
  "language_info": {
   "codemirror_mode": {
    "name": "ipython",
    "version": 3
   },
   "file_extension": ".py",
   "mimetype": "text/x-python",
   "name": "python",
   "nbconvert_exporter": "python",
   "pygments_lexer": "ipython3",
   "version": "3.12.8"
  }
 },
 "nbformat": 4,
 "nbformat_minor": 2
}
